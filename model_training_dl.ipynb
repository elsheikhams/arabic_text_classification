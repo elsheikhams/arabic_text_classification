{
 "cells": [
  {
   "cell_type": "code",
   "execution_count": 1,
   "id": "39bdb139",
   "metadata": {
    "colab": {
     "base_uri": "https://localhost:8080/",
     "height": 614
    },
    "executionInfo": {
     "elapsed": 4633,
     "status": "ok",
     "timestamp": 1647137417112,
     "user": {
      "displayName": "Abdelrahman El-Sheikh 201-600-831",
      "photoUrl": "https://lh3.googleusercontent.com/a-/AOh14GgNUk5Z8VR7FPPvyCnZaVHX8mBmK3t6goh7lckMAQ=s64",
      "userId": "02603284246644645524"
     },
     "user_tz": -120
    },
    "id": "39bdb139",
    "outputId": "4452c419-62fe-46a6-d795-0f26916e1a14"
   },
   "outputs": [
    {
     "data": {
      "text/html": [
       "<div>\n",
       "<style scoped>\n",
       "    .dataframe tbody tr th:only-of-type {\n",
       "        vertical-align: middle;\n",
       "    }\n",
       "\n",
       "    .dataframe tbody tr th {\n",
       "        vertical-align: top;\n",
       "    }\n",
       "\n",
       "    .dataframe thead th {\n",
       "        text-align: right;\n",
       "    }\n",
       "</style>\n",
       "<table border=\"1\" class=\"dataframe\">\n",
       "  <thead>\n",
       "    <tr style=\"text-align: right;\">\n",
       "      <th></th>\n",
       "      <th>dialect</th>\n",
       "      <th>label_id</th>\n",
       "    </tr>\n",
       "  </thead>\n",
       "  <tbody>\n",
       "    <tr>\n",
       "      <th>0</th>\n",
       "      <td>IQ</td>\n",
       "      <td>0</td>\n",
       "    </tr>\n",
       "    <tr>\n",
       "      <th>15497</th>\n",
       "      <td>LY</td>\n",
       "      <td>1</td>\n",
       "    </tr>\n",
       "    <tr>\n",
       "      <th>51996</th>\n",
       "      <td>QA</td>\n",
       "      <td>2</td>\n",
       "    </tr>\n",
       "    <tr>\n",
       "      <th>83065</th>\n",
       "      <td>PL</td>\n",
       "      <td>3</td>\n",
       "    </tr>\n",
       "    <tr>\n",
       "      <th>126807</th>\n",
       "      <td>SY</td>\n",
       "      <td>4</td>\n",
       "    </tr>\n",
       "    <tr>\n",
       "      <th>143049</th>\n",
       "      <td>TN</td>\n",
       "      <td>5</td>\n",
       "    </tr>\n",
       "    <tr>\n",
       "      <th>152295</th>\n",
       "      <td>JO</td>\n",
       "      <td>6</td>\n",
       "    </tr>\n",
       "    <tr>\n",
       "      <th>180216</th>\n",
       "      <td>MA</td>\n",
       "      <td>7</td>\n",
       "    </tr>\n",
       "    <tr>\n",
       "      <th>191755</th>\n",
       "      <td>SA</td>\n",
       "      <td>8</td>\n",
       "    </tr>\n",
       "    <tr>\n",
       "      <th>218587</th>\n",
       "      <td>YE</td>\n",
       "      <td>9</td>\n",
       "    </tr>\n",
       "    <tr>\n",
       "      <th>228514</th>\n",
       "      <td>DZ</td>\n",
       "      <td>10</td>\n",
       "    </tr>\n",
       "    <tr>\n",
       "      <th>244697</th>\n",
       "      <td>EG</td>\n",
       "      <td>11</td>\n",
       "    </tr>\n",
       "    <tr>\n",
       "      <th>302333</th>\n",
       "      <td>LB</td>\n",
       "      <td>12</td>\n",
       "    </tr>\n",
       "    <tr>\n",
       "      <th>329950</th>\n",
       "      <td>KW</td>\n",
       "      <td>13</td>\n",
       "    </tr>\n",
       "    <tr>\n",
       "      <th>372059</th>\n",
       "      <td>OM</td>\n",
       "      <td>14</td>\n",
       "    </tr>\n",
       "    <tr>\n",
       "      <th>391175</th>\n",
       "      <td>SD</td>\n",
       "      <td>15</td>\n",
       "    </tr>\n",
       "    <tr>\n",
       "      <th>405609</th>\n",
       "      <td>AE</td>\n",
       "      <td>16</td>\n",
       "    </tr>\n",
       "    <tr>\n",
       "      <th>431905</th>\n",
       "      <td>BH</td>\n",
       "      <td>17</td>\n",
       "    </tr>\n",
       "  </tbody>\n",
       "</table>\n",
       "</div>"
      ],
      "text/plain": [
       "       dialect  label_id\n",
       "0           IQ         0\n",
       "15497       LY         1\n",
       "51996       QA         2\n",
       "83065       PL         3\n",
       "126807      SY         4\n",
       "143049      TN         5\n",
       "152295      JO         6\n",
       "180216      MA         7\n",
       "191755      SA         8\n",
       "218587      YE         9\n",
       "228514      DZ        10\n",
       "244697      EG        11\n",
       "302333      LB        12\n",
       "329950      KW        13\n",
       "372059      OM        14\n",
       "391175      SD        15\n",
       "405609      AE        16\n",
       "431905      BH        17"
      ]
     },
     "metadata": {},
     "output_type": "display_data"
    }
   ],
   "source": [
    "import pandas as pd\n",
    "df1 = pd.read_csv('dialect_dataset.csv')\n",
    "df2 = pd.read_csv('retreived_text_data.csv')\n",
    "x = df2['text']\n",
    "\n",
    "# Factorizing the label column in the train and test dataframes:\n",
    "df1['label_id']=df1['dialect'].factorize()[0]\n",
    "display(df1[['dialect','label_id']].drop_duplicates())\n",
    "y = df1['label_id']"
   ]
  },
  {
   "cell_type": "code",
   "execution_count": 2,
   "id": "c7d6cd7b",
   "metadata": {},
   "outputs": [
    {
     "name": "stdout",
     "output_type": "stream",
     "text": [
      "1 Physical GPUs, 1 Logical GPUs\n"
     ]
    }
   ],
   "source": [
    "import tensorflow as tf\n",
    "gpus = tf.config.experimental.list_physical_devices('GPU')\n",
    "if gpus:\n",
    "    try:\n",
    "        # Currently, memory growth needs to be the same across GPUs\n",
    "        for gpu in gpus:\n",
    "            tf.config.experimental.set_memory_growth(gpu, True)\n",
    "        logical_gpus = tf.config.experimental.list_logical_devices('GPU')\n",
    "        print(len(gpus), \"Physical GPUs,\", len(logical_gpus), \"Logical GPUs\")\n",
    "    except RuntimeError as e:\n",
    "        # Memory growth must be set before GPUs have been initialized\n",
    "        print(e)\n"
   ]
  },
  {
   "cell_type": "code",
   "execution_count": 3,
   "id": "V8qwIDO0utpm",
   "metadata": {
    "colab": {
     "base_uri": "https://localhost:8080/"
    },
    "executionInfo": {
     "elapsed": 1420,
     "status": "ok",
     "timestamp": 1647137429041,
     "user": {
      "displayName": "Abdelrahman El-Sheikh 201-600-831",
      "photoUrl": "https://lh3.googleusercontent.com/a-/AOh14GgNUk5Z8VR7FPPvyCnZaVHX8mBmK3t6goh7lckMAQ=s64",
      "userId": "02603284246644645524"
     },
     "user_tz": -120
    },
    "id": "V8qwIDO0utpm",
    "outputId": "83aad936-c9d2-4a13-aadd-9e9a7e0c67a0"
   },
   "outputs": [
    {
     "name": "stderr",
     "output_type": "stream",
     "text": [
      "[nltk_data] Downloading package stopwords to\n",
      "[nltk_data]     C:\\Users\\Abdelrahman\\AppData\\Roaming\\nltk_data...\n",
      "[nltk_data]   Package stopwords is already up-to-date!\n"
     ]
    },
    {
     "data": {
      "text/plain": [
       "0     @Nw8ieJUwaCAAreT لكن بالنهاية .. ينتفض .. يغير .\n",
       "1    @7zNqXP0yrODdRjK يعني هذا محسوب على البشر .. ح...\n",
       "2                      @KanaanRema مبين من كلامه خليجي\n",
       "3           @HAIDER76128900 يسلملي مرورك وروحك الحلوه💐\n",
       "4                   @hmo2406 وين هل الغيبه  اخ محمد 🌸🌺\n",
       "Name: text, dtype: object"
      ]
     },
     "metadata": {},
     "output_type": "display_data"
    },
    {
     "data": {
      "text/plain": [
       "458192                @Al_mhbaa_7 مبسوطين منك اللي باسطانا😅\n",
       "458193         @Zzainabali @P_ameerah والله ماينده ابش يختي\n",
       "458194    @Al_mhbaa_7 شو عملنا لك حنا تهربي مننا احنا مس...\n",
       "458195          @haneenalmwla الله يبارك فيها وبالعافيه 😋😋😋\n",
       "458196            @jolnar121 السحله ضيفي ي بتطلع لك سحليه😅😅\n",
       "Name: text, dtype: object"
      ]
     },
     "metadata": {},
     "output_type": "display_data"
    },
    {
     "data": {
      "text/plain": [
       "0                                  بالنهاية ينتفض يغير\n",
       "1    يعني محسوب البشر حيونه ووحشيه وتطلبون الغرب يح...\n",
       "2                                     مبين كلامه خليجي\n",
       "3                            يسلملي مرورك وروحك الحلوه\n",
       "4                                   وين الغيبه اخ محمد\n",
       "Name: text, dtype: object"
      ]
     },
     "metadata": {},
     "output_type": "display_data"
    },
    {
     "data": {
      "text/plain": [
       "458192                             مبسوطين منك اللي باسطانا\n",
       "458193                                والله ماينده ابش يختي\n",
       "458194    شو عملنا حنا تهربي مننا احنا مساكين ليش بتعملي...\n",
       "458195                                 الله يبارك وبالعافيه\n",
       "458196                              السحله ضيفي بتطلع سحليه\n",
       "Name: text, dtype: object"
      ]
     },
     "metadata": {},
     "output_type": "display_data"
    }
   ],
   "source": [
    "import re\n",
    "import nltk\n",
    "nltk.download('stopwords')\n",
    "from nltk.corpus import stopwords\n",
    "\n",
    "STOPWORDS = set(stopwords.words(['arabic','english']))\n",
    "\n",
    "# Applying the clean_text function to the dataframe:\n",
    "def clean_text(text):\n",
    "    \"\"\"\n",
    "    text: a string\n",
    "    return: modified initial string\n",
    "    \"\"\"\n",
    "    text = re.sub(r'([@A-Za-z0-9_ـــــــــــــ]+)|[^\\w\\s]|#|http\\S+', '' , text)\n",
    "    text = text.rstrip()\n",
    "    text = ' '.join(word for word in text.split() if word not in STOPWORDS) # delete stopwords from text\n",
    "    return text\n",
    "\n",
    "display(x.head(), x.tail())\n",
    "x = x.apply(clean_text)\n",
    "display(x.head(), x.tail())"
   ]
  },
  {
   "cell_type": "code",
   "execution_count": 4,
   "id": "DIkOkL4Zuxl7",
   "metadata": {
    "colab": {
     "base_uri": "https://localhost:8080/",
     "height": 369
    },
    "executionInfo": {
     "elapsed": 1096,
     "status": "ok",
     "timestamp": 1647137445070,
     "user": {
      "displayName": "Abdelrahman El-Sheikh 201-600-831",
      "photoUrl": "https://lh3.googleusercontent.com/a-/AOh14GgNUk5Z8VR7FPPvyCnZaVHX8mBmK3t6goh7lckMAQ=s64",
      "userId": "02603284246644645524"
     },
     "user_tz": -120
    },
    "id": "DIkOkL4Zuxl7",
    "outputId": "4dd778fb-bf52-4f77-c7a3-16cebecb1a23"
   },
   "outputs": [
    {
     "data": {
      "image/png": "[encoded data removed]",
      "text/plain": [
       "<Figure size 576x360 with 1 Axes>"
      ]
     },
     "metadata": {},
     "output_type": "display_data"
    }
   ],
   "source": [
    "import seaborn as sns\n",
    "import matplotlib.pyplot as plt\n",
    "\n",
    "sns.set_style('whitegrid')\n",
    "plt.figure(figsize=(8, 5))\n",
    "ax = sns.countplot(x=y)\n",
    "ax.set_xticklabels(ax.get_xticklabels(), rotation=40, ha=\"right\")\n",
    "plt.tight_layout()"
   ]
  },
  {
   "cell_type": "code",
   "execution_count": 5,
   "id": "xXocwzTJsERb",
   "metadata": {
    "executionInfo": {
     "elapsed": 651,
     "status": "ok",
     "timestamp": 1647137551972,
     "user": {
      "displayName": "Abdelrahman El-Sheikh 201-600-831",
      "photoUrl": "https://lh3.googleusercontent.com/a-/AOh14GgNUk5Z8VR7FPPvyCnZaVHX8mBmK3t6goh7lckMAQ=s64",
      "userId": "02603284246644645524"
     },
     "user_tz": -120
    },
    "id": "xXocwzTJsERb"
   },
   "outputs": [],
   "source": [
    "from tensorflow.keras.preprocessing.text import Tokenizer\n",
    "from tensorflow.keras.preprocessing.sequence import pad_sequences\n",
    "from tensorflow.keras.models import Sequential\n",
    "from tensorflow.keras import layers\n",
    "from tensorflow.keras.layers import  Dropout, Dense\n",
    "from sklearn import metrics\n",
    "from tensorflow.keras.layers import SpatialDropout1D, Embedding, LSTM\n",
    "from tensorflow.keras.callbacks import EarlyStopping"
   ]
  },
  {
   "cell_type": "code",
   "execution_count": 6,
   "id": "t-nKRwYPB79D",
   "metadata": {
    "colab": {
     "base_uri": "https://localhost:8080/"
    },
    "executionInfo": {
     "elapsed": 24035,
     "status": "ok",
     "timestamp": 1647137533359,
     "user": {
      "displayName": "Abdelrahman El-Sheikh 201-600-831",
      "photoUrl": "https://lh3.googleusercontent.com/a-/AOh14GgNUk5Z8VR7FPPvyCnZaVHX8mBmK3t6goh7lckMAQ=s64",
      "userId": "02603284246644645524"
     },
     "user_tz": -120
    },
    "id": "t-nKRwYPB79D",
    "outputId": "5cc24ceb-c973-47e1-ffcd-cc28f459f9aa"
   },
   "outputs": [
    {
     "name": "stdout",
     "output_type": "stream",
     "text": [
      "Found 513351 unique tokens.\n",
      "Shape of data tensor: (458197, 250)\n",
      "Shape of label tensor: (458197,)\n"
     ]
    }
   ],
   "source": [
    "# The maximum number of words to be used. (most frequent)\n",
    "MAX_NB_WORDS = 50000\n",
    "# Max number of words in each complaint.\n",
    "MAX_SEQUENCE_LENGTH = 250\n",
    "# This is fixed.\n",
    "EMBEDDING_DIM = 100\n",
    "tokenizer = Tokenizer(num_words=MAX_NB_WORDS, filters='!\"#$%&()*+,-./:;<=>?@[\\]^_`{|}~', lower=False)\n",
    "tokenizer.fit_on_texts(x.values)\n",
    "word_index = tokenizer.word_index\n",
    "print('Found %s unique tokens.' % len(word_index))\n",
    "x = tokenizer.texts_to_sequences(x.values)\n",
    "x = pad_sequences(x, maxlen=MAX_SEQUENCE_LENGTH)\n",
    "print('Shape of data tensor:', x.shape)\n",
    "print('Shape of label tensor:', y.shape)"
   ]
  },
  {
   "cell_type": "code",
   "execution_count": 7,
   "id": "34tjb4ruIPJ9",
   "metadata": {
    "id": "34tjb4ruIPJ9"
   },
   "outputs": [],
   "source": [
    "from sklearn.model_selection import train_test_split\n",
    "x_train, x_test, y_train, y_test = train_test_split(x, y, test_size=0.1, random_state=0, stratify = y)"
   ]
  },
  {
   "cell_type": "code",
   "execution_count": 9,
   "id": "SbMDPTTbHZYi",
   "metadata": {
    "colab": {
     "base_uri": "https://localhost:8080/"
    },
    "id": "SbMDPTTbHZYi",
    "outputId": "bd253b2e-06d8-4438-cea3-ba9d491400d2"
   },
   "outputs": [
    {
     "name": "stdout",
     "output_type": "stream",
     "text": [
      "WARNING:tensorflow:Layer lstm_1 will not use cuDNN kernels since it doesn't meet the criteria. It will use a generic GPU kernel as fallback when running on GPU.\n",
      "Epoch 1/3\n",
      "6444/6444 [==============================] - 11983s 2s/step - loss: 1.8159 - accuracy: 0.4275 - val_loss: 1.5723 - val_accuracy: 0.5095\n",
      "Epoch 2/3\n",
      "6444/6444 [==============================] - 11943s 2s/step - loss: 1.3984 - accuracy: 0.5603 - val_loss: 1.5301 - val_accuracy: 0.5239\n",
      "Epoch 3/3\n",
      "6444/6444 [==============================] - 11985s 2s/step - loss: 1.2247 - accuracy: 0.6140 - val_loss: 1.5681 - val_accuracy: 0.5205\n"
     ]
    }
   ],
   "source": [
    "model = Sequential()\n",
    "model.add(Embedding(MAX_NB_WORDS, EMBEDDING_DIM, input_length=x.shape[1]))\n",
    "model.add(SpatialDropout1D(0.2))\n",
    "model.add(LSTM(100, dropout=0.2, recurrent_dropout=0.2))\n",
    "model.add(Dense(18, activation='softmax'))\n",
    "model.compile(loss='sparse_categorical_crossentropy', optimizer='adam', metrics=['accuracy'])\n",
    "\n",
    "epochs = 3\n",
    "batch_size = 64\n",
    "\n",
    "history = model.fit(x_train, y_train, epochs=epochs, batch_size=batch_size,validation_data=(x_test, y_test),callbacks=[EarlyStopping(monitor='val_loss', patience=3, min_delta=0.0001)])"
   ]
  },
  {
   "cell_type": "code",
   "execution_count": 12,
   "id": "mOvT9TH-IjRZ",
   "metadata": {
    "colab": {
     "base_uri": "https://localhost:8080/",
     "height": 252
    },
    "executionInfo": {
     "elapsed": 397,
     "status": "error",
     "timestamp": 1647156427145,
     "user": {
      "displayName": "Abdelrahman El-Sheikh 201-600-831",
      "photoUrl": "https://lh3.googleusercontent.com/a-/AOh14GgNUk5Z8VR7FPPvyCnZaVHX8mBmK3t6goh7lckMAQ=s64",
      "userId": "02603284246644645524"
     },
     "user_tz": -120
    },
    "id": "mOvT9TH-IjRZ",
    "outputId": "a4567ab7-ccb1-44dc-bc5d-346243f59cc8"
   },
   "outputs": [
    {
     "name": "stdout",
     "output_type": "stream",
     "text": [
      "1432/1432 [==============================] - 216s 151ms/step - loss: 1.5681 - accuracy: 0.5205\n",
      "Test set\n",
      "  Loss: 1.568\n",
      "  Accuracy: 0.521\n"
     ]
    },
    {
     "data": {
      "image/png": "[encoded data removed]",
      "text/plain": [
       "<Figure size 432x288 with 1 Axes>"
      ]
     },
     "metadata": {},
     "output_type": "display_data"
    },
    {
     "data": {
      "image/png": "[encoded data removed]",
      "text/plain": [
       "<Figure size 432x288 with 1 Axes>"
      ]
     },
     "metadata": {},
     "output_type": "display_data"
    }
   ],
   "source": [
    "accr = model.evaluate(x_test,y_test)\n",
    "print('Test set\\n  Loss: {:0.3f}\\n  Accuracy: {:0.3f}'.format(accr[0],accr[1]))\n",
    "# plotting loss\n",
    "plt.title('Loss')\n",
    "plt.plot(history.history['loss'], label='train')\n",
    "plt.plot(history.history['val_loss'], label='test')\n",
    "plt.legend()\n",
    "plt.show();\n",
    "# plotting accuracy\n",
    "plt.title('Accuracy')\n",
    "plt.plot(history.history['accuracy'], label='train')\n",
    "plt.plot(history.history['val_accuracy'], label='test')\n",
    "plt.legend()\n",
    "plt.show();"
   ]
  },
  {
   "cell_type": "code",
   "execution_count": 11,
   "id": "iDdMv5ggid7Z",
   "metadata": {
    "id": "iDdMv5ggid7Z"
   },
   "outputs": [],
   "source": [
    "model.save('dl_model.h5')"
   ]
  }
 ],
 "metadata": {
  "accelerator": "GPU",
  "colab": {
   "collapsed_sections": [],
   "name": "model_training_dl.ipynb",
   "provenance": []
  },
  "kernelspec": {
   "display_name": "Python 3 (ipykernel)",
   "language": "python",
   "name": "python3"
  },
  "language_info": {
   "codemirror_mode": {
    "name": "ipython",
    "version": 3
   },
   "file_extension": ".py",
   "mimetype": "text/x-python",
   "name": "python",
   "nbconvert_exporter": "python",
   "pygments_lexer": "ipython3",
   "version": "3.9.7"
  }
 },
 "nbformat": 4,
 "nbformat_minor": 5
}
