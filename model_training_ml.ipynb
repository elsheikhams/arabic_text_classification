{
 "cells": [
  {
   "cell_type": "code",
   "execution_count": 1,
   "id": "64d6d793",
   "metadata": {},
   "outputs": [],
   "source": [
    "%store -r x_train_tfidf\n",
    "%store -r x_test_tfidf\n",
    "%store -r y_train\n",
    "%store -r y_test\n",
    "%store -r x_train\n",
    "%store -r x_test"
   ]
  },
  {
   "cell_type": "code",
   "execution_count": 2,
   "id": "649e2f6e",
   "metadata": {},
   "outputs": [],
   "source": [
    "from sklearn.ensemble import RandomForestClassifier\n",
    "from sklearn.svm import LinearSVC\n",
    "from sklearn import svm\n",
    "from sklearn.naive_bayes import MultinomialNB\n",
    "from sklearn.linear_model import SGDClassifier\n",
    "from sklearn.tree import DecisionTreeClassifier\n",
    "from sklearn.neighbors import KNeighborsClassifier\n",
    "\n",
    "from sklearn.model_selection import GridSearchCV\n",
    "from sklearn.metrics import confusion_matrix\n",
    "from sklearn.metrics import accuracy_score\n",
    "\n",
    "# ignore ConvergenceWarnings\n",
    "from  warnings import simplefilter\n",
    "from sklearn.exceptions import ConvergenceWarning\n",
    "simplefilter(\"ignore\", category=ConvergenceWarning)"
   ]
  },
  {
   "cell_type": "code",
   "execution_count": 5,
   "id": "cd8ae5f9",
   "metadata": {},
   "outputs": [
    {
     "name": "stdout",
     "output_type": "stream",
     "text": [
      "MultinomialNB()\n",
      "{'fit_prior': False}\n",
      "LinearSVC()\n",
      "{'fit_intercept': True, 'loss': 'hinge', 'max_iter': 900, 'multi_class': 'crammer_singer', 'random_state': 42}\n",
      "SGDClassifier()\n",
      "{'alpha': 0.0001, 'early_stopping': True, 'loss': 'hinge', 'max_iter': 1000, 'penalty': 'l2', 'random_state': 42}\n"
     ]
    }
   ],
   "source": [
    "models = [\n",
    "    { \"estimater\": MultinomialNB(),\n",
    "      \"params\": {\n",
    "          \"fit_prior\": [True, False]    \n",
    "      }\n",
    "    },\n",
    "    { \"estimater\": LinearSVC(),\n",
    "      \"params\": {\n",
    "          \"loss\": ['hinge','squared_hinge'],\n",
    "          \"multi_class\": ['ovr', 'crammer_singer'],\n",
    "          \"fit_intercept\": [True, False],\n",
    "          \"random_state\": [42],\n",
    "          \"max_iter\": [900, 1000, 1100]\n",
    "      }\n",
    "    },\n",
    "    { \"estimater\": SGDClassifier(),\n",
    "      \"params\": {\n",
    "          \"loss\": ['hinge','log','perceptron'], \n",
    "          \"penalty\": ['l2', 'l1'], \n",
    "          \"alpha\": [0.0001, 0.0003, 0.0010],\n",
    "          \"early_stopping\": [True],\n",
    "          \"max_iter\": [1000, 1500],\n",
    "          \"random_state\": [42]\n",
    "      }\n",
    "    }\n",
    "]\n",
    "\n",
    "column_names = [\"MultiNB\", \"SVC\", \"SGDClassifier\"]\n",
    "entries = []\n",
    "\n",
    "highest_acc = 0\n",
    "best_model = None\n",
    "\n",
    "for model in models:\n",
    "    print(model[\"estimater\"])\n",
    "\n",
    "  # Create a based model\n",
    "    clf = model[\"estimater\"]\n",
    "  # Instantiate the grid search model\n",
    "    grid_search = GridSearchCV(estimator = clf, param_grid = model[\"params\"], \n",
    "                            cv = 3, n_jobs = 1)\n",
    "  # Fit the model\n",
    "    grid_search.fit(x_train_tfidf, y_train);\n",
    "\n",
    "  # Make a prediction on the test split to find model accuracy\n",
    "    predicted = grid_search.predict(x_test_tfidf)\n",
    "    acc = accuracy_score(predicted, y_test)\n",
    "    entries.append(acc)\n",
    "\n",
    "    print(grid_search.best_params_)\n",
    "\n",
    "  # If model have the highest accuracy, it's out best model\n",
    "    if acc > highest_acc:\n",
    "        highest_acc = acc\n",
    "        best_model = grid_search"
   ]
  },
  {
   "cell_type": "code",
   "execution_count": 4,
   "id": "4dedf56f",
   "metadata": {},
   "outputs": [
    {
     "name": "stdout",
     "output_type": "stream",
     "text": [
      "[[1197  147   12  114   32   54  297   35   71    8  110   90  248  151\n",
      "    12   19   10   23]\n",
      " [ 191  879   22   78   54   55  510   37   88   13   87   90  287  178\n",
      "    16   19    7   18]\n",
      " [  36   26  891  114   17   42   30   34  104   52   28   81   37   46\n",
      "    18   22   35    5]\n",
      " [  27   26   24 5038   20   57   45   43  100   15   11  189   37   34\n",
      "    58   13   19    8]\n",
      " [  55   57   16   50  864   41  144   35   40    5   35   51   54   49\n",
      "    12   23   11    8]\n",
      " [  55   46   47  174   26 1024  116  148   84   14   56  705   80  103\n",
      "    26   61   12   15]\n",
      " [ 224  199   26  104   49   72 2619   33   90   12   95   90  264  263\n",
      "    26   17    9   19]\n",
      " [  46   20   21   92   16   91   53 1926   47   10   17  248   26   17\n",
      "    20   92    9   11]\n",
      " [  69   51   87  226   23   38  116   59 2549   31   45  132   59   61\n",
      "    26   28   33   17]\n",
      " [  14   12   85   80    7   14   29   23   42  706   10   43   17   25\n",
      "    17   12   12    6]\n",
      " [ 195  108   29   61   25   74  184   39   68   12  685   91  169  126\n",
      "    13    7    8   18]\n",
      " [  84   67   50  407   34  407   97  225  103   18   54 2472   81   95\n",
      "    35  110   15   20]\n",
      " [ 238  158   17   66   26   51  435   22   59    4   81   68 1604  208\n",
      "    14   22    5   29]\n",
      " [ 155  133   29   72   24   73  331   45   86   12   85   66  236 1247\n",
      "    17   28   14   30]\n",
      " [  19   18   17  225   19   26   31   25   42    7   17   56   39   32\n",
      "   840   17    3   10]\n",
      " [  21   21   29   69   31   92   59  326   40    3   10  241   28   47\n",
      "    14  576    9    8]\n",
      " [  15   17   56  112    6   14   26   28   77   14   10   29   22   29\n",
      "     5    9  454    1]\n",
      " [  47   39   20   59   16   39   84   26   59    9   35   87   87  136\n",
      "    16   21    6  207]]\n",
      "Accuracy 0.5625927542557835\n"
     ]
    }
   ],
   "source": [
    "classifier = LinearSVC(fit_intercept= True, loss= 'hinge', max_iter= 900, multi_class= 'crammer_singer', random_state= 42)\n",
    "classifier.fit(x_train_tfidf, y_train)\n",
    "y_pred = classifier.predict(x_test_tfidf)\n",
    "\n",
    "# Testing the accuracy\n",
    "cm = confusion_matrix(y_test, y_pred)\n",
    "print(cm)\n",
    "print('Accuracy ' + str(accuracy_score(y_test, y_pred)))"
   ]
  },
  {
   "cell_type": "code",
   "execution_count": 6,
   "id": "d93c123b",
   "metadata": {},
   "outputs": [
    {
     "data": {
      "text/plain": [
       "['ml_model.sav']"
      ]
     },
     "execution_count": 6,
     "metadata": {},
     "output_type": "execute_result"
    }
   ],
   "source": [
    "import joblib\n",
    "filename = 'ml_model.sav'\n",
    "joblib.dump(classifier, filename)"
   ]
  }
 ],
 "metadata": {
  "kernelspec": {
   "display_name": "Python 3 (ipykernel)",
   "language": "python",
   "name": "python3"
  },
  "language_info": {
   "codemirror_mode": {
    "name": "ipython",
    "version": 3
   },
   "file_extension": ".py",
   "mimetype": "text/x-python",
   "name": "python",
   "nbconvert_exporter": "python",
   "pygments_lexer": "ipython3",
   "version": "3.9.7"
  }
 },
 "nbformat": 4,
 "nbformat_minor": 5
}
