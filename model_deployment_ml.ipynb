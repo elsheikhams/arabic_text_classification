{
 "cells": [
  {
   "cell_type": "code",
   "execution_count": 11,
   "id": "aa4cc421",
   "metadata": {},
   "outputs": [],
   "source": [
    "import joblib\n",
    "from flask import Flask, redirect, url_for, request, render_template\n",
    "from werkzeug.utils import secure_filename\n",
    "from gevent.pywsgi import WSGIServer\n",
    "import site\n",
    "site.addsitedir('C:\\Anaconda\\Lib\\site-packages')\n",
    "import sys\n",
    "import os\n",
    "import glob\n",
    "import re\n",
    "import numpy as np\n",
    "import pandas as pd\n",
    "from __future__ import division, print_function\n",
    "from sklearn.feature_extraction.text import TfidfVectorizer\n",
    "from nltk.corpus import stopwords\n",
    "import pickle"
   ]
  },
  {
   "cell_type": "code",
   "execution_count": 12,
   "id": "70c0ab39",
   "metadata": {},
   "outputs": [
    {
     "name": "stdout",
     "output_type": "stream",
     "text": [
      " * Serving Flask app \"__main__\" (lazy loading)\n",
      " * Environment: production\n",
      "\u001b[31m   WARNING: This is a development server. Do not use it in a production deployment.\u001b[0m\n",
      "\u001b[2m   Use a production WSGI server instead.\u001b[0m\n",
      " * Debug mode: off\n"
     ]
    },
    {
     "name": "stderr",
     "output_type": "stream",
     "text": [
      " * Running on http://127.0.0.1:5000/ (Press CTRL+C to quit)\n",
      "127.0.0.1 - - [15/Mar/2022 01:41:30] \"GET / HTTP/1.1\" 200 -\n",
      "127.0.0.1 - - [15/Mar/2022 01:41:30] \"GET /bootstrap.css HTTP/1.1\" 404 -\n",
      "127.0.0.1 - - [15/Mar/2022 01:41:30] \"GET /style.css HTTP/1.1\" 404 -\n",
      "127.0.0.1 - - [15/Mar/2022 01:41:32] \"POST /result HTTP/1.1\" 200 -\n",
      "127.0.0.1 - - [15/Mar/2022 01:41:32] \"GET /bootstrap.css HTTP/1.1\" 404 -\n"
     ]
    },
    {
     "name": "stdout",
     "output_type": "stream",
     "text": [
      "[3] IQ\n"
     ]
    },
    {
     "name": "stderr",
     "output_type": "stream",
     "text": [
      "127.0.0.1 - - [15/Mar/2022 01:41:32] \"GET /style.css HTTP/1.1\" 404 -\n"
     ]
    }
   ],
   "source": [
    "app = Flask(__name__)\n",
    "model = joblib.load('ml_model.sav')\n",
    "df = pd.read_csv('dialect_dataset.csv')\n",
    "tfidf = pickle.load(open('tfidf.pkl', 'rb'))\n",
    "\n",
    "def predict_model(text, model):\n",
    "    text_tfidf = tfidf.transform(text)\n",
    "    pred = model.predict(text_tfidf)\n",
    "    labels = df['dialect'].drop_duplicates().tolist()\n",
    "    print(pred, labels[np.argmax(pred)])\n",
    "    return pred, labels[np.argmax(pred)]\n",
    "\n",
    "@app.route('/')\n",
    "            \n",
    "def home():\n",
    "    # Main page\n",
    "    return render_template('home.html')\n",
    "\n",
    "@app.route('/result', methods=['GET', 'POST'])\n",
    "def result():\n",
    "    if request.method == 'POST':\n",
    "        # Get the text from post request\n",
    "       result = request.form['Data']\n",
    "       result_pred = predict_model([result],model)\n",
    "       return render_template(\"result.html\",result = result_pred)\n",
    "    return None\n",
    "\n",
    "\n",
    "if __name__ == '__main__':\n",
    "    app.run(debug=False)\n"
   ]
  }
 ],
 "metadata": {
  "kernelspec": {
   "display_name": "Python 3 (ipykernel)",
   "language": "python",
   "name": "python3"
  },
  "language_info": {
   "codemirror_mode": {
    "name": "ipython",
    "version": 3
   },
   "file_extension": ".py",
   "mimetype": "text/x-python",
   "name": "python",
   "nbconvert_exporter": "python",
   "pygments_lexer": "ipython3",
   "version": "3.9.7"
  }
 },
 "nbformat": 4,
 "nbformat_minor": 5
}
