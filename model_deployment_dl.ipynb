{
 "cells": [
  {
   "cell_type": "code",
   "execution_count": 9,
   "id": "aa4cc421",
   "metadata": {},
   "outputs": [
    {
     "name": "stdout",
     "output_type": "stream",
     "text": [
      "1 Physical GPUs, 1 Logical GPUs\n"
     ]
    }
   ],
   "source": [
    "import tensorflow as tf\n",
    "gpus = tf.config.experimental.list_physical_devices('GPU')\n",
    "if gpus:\n",
    "    try:\n",
    "        # Currently, memory growth needs to be the same across GPUs\n",
    "        for gpu in gpus:\n",
    "            tf.config.experimental.set_memory_growth(gpu, True)\n",
    "        logical_gpus = tf.config.experimental.list_logical_devices('GPU')\n",
    "        print(len(gpus), \"Physical GPUs,\", len(logical_gpus), \"Logical GPUs\")\n",
    "    except RuntimeError as e:\n",
    "        # Memory growth must be set before GPUs have been initialized\n",
    "        print(e)"
   ]
  },
  {
   "cell_type": "code",
   "execution_count": 10,
   "id": "eb3e8170",
   "metadata": {},
   "outputs": [],
   "source": [
    "from __future__ import division, print_function\n",
    "# coding=utf-8\n",
    "import sys\n",
    "import os\n",
    "import glob\n",
    "import re\n",
    "import numpy as np\n",
    "import pandas as pd\n",
    "\n",
    "# Keras\n",
    "from tensorflow.keras.applications.imagenet_utils import preprocess_input, decode_predictions\n",
    "from tensorflow.keras.models import load_model\n",
    "from tensorflow.keras.preprocessing import image\n",
    "from keras.preprocessing.text import Tokenizer\n",
    "from keras.preprocessing.sequence import pad_sequences\n",
    "\n",
    "# Flask utils\n",
    "from flask import Flask, redirect, url_for, request, render_template\n",
    "from werkzeug.utils import secure_filename\n",
    "from gevent.pywsgi import WSGIServer\n",
    "import site\n",
    "\n",
    "site.addsitedir('C:\\Anaconda\\Lib\\site-packages')"
   ]
  },
  {
   "cell_type": "code",
   "execution_count": 15,
   "id": "70c0ab39",
   "metadata": {},
   "outputs": [
    {
     "name": "stdout",
     "output_type": "stream",
     "text": [
      "WARNING:tensorflow:Layer lstm_1 will not use cuDNN kernels since it doesn't meet the criteria. It will use a generic GPU kernel as fallback when running on GPU.\n",
      " * Serving Flask app \"__main__\" (lazy loading)\n",
      " * Environment: production\n",
      "\u001b[31m   WARNING: This is a development server. Do not use it in a production deployment.\u001b[0m\n",
      "\u001b[2m   Use a production WSGI server instead.\u001b[0m\n",
      " * Debug mode: off\n"
     ]
    },
    {
     "name": "stderr",
     "output_type": "stream",
     "text": [
      " * Running on http://127.0.0.1:5000/ (Press CTRL+C to quit)\n",
      "127.0.0.1 - - [15/Mar/2022 01:15:27] \"GET / HTTP/1.1\" 200 -\n",
      "127.0.0.1 - - [15/Mar/2022 01:15:27] \"GET /bootstrap.css HTTP/1.1\" 404 -\n",
      "127.0.0.1 - - [15/Mar/2022 01:15:27] \"GET /style.css HTTP/1.1\" 404 -\n",
      "127.0.0.1 - - [15/Mar/2022 01:15:32] \"POST /result HTTP/1.1\" 200 -\n",
      "127.0.0.1 - - [15/Mar/2022 01:15:32] \"GET /bootstrap.css HTTP/1.1\" 404 -\n",
      "127.0.0.1 - - [15/Mar/2022 01:15:32] \"GET /style.css HTTP/1.1\" 404 -\n"
     ]
    },
    {
     "name": "stdout",
     "output_type": "stream",
     "text": [
      "[[0.03603795 0.08620495 0.0523845  0.07342794 0.03555323 0.03762096\n",
      "  0.05230664 0.03280691 0.06548201 0.03292128 0.04823986 0.11382581\n",
      "  0.07036359 0.05971238 0.06647214 0.04794914 0.04517387 0.04351672]] EG\n"
     ]
    }
   ],
   "source": [
    "app = Flask(__name__)\n",
    "model = load_model('dl_model.h5')\n",
    "model.make_predict_function()\n",
    "df = pd.read_csv('dialect_dataset.csv')\n",
    "def predict_model(text, model):\n",
    "    MAX_NB_WORDS = 50000\n",
    "    MAX_SEQUENCE_LENGTH = 250\n",
    "    EMBEDDING_DIM = 100\n",
    "    tokenizer = Tokenizer(num_words=MAX_NB_WORDS, filters='!\"#$%&()*+,-./:;<=>?@[\\]^_`{|}~', lower=False)\n",
    "    seq = tokenizer.texts_to_sequences(text)\n",
    "    padded = pad_sequences(seq, maxlen=MAX_SEQUENCE_LENGTH)\n",
    "    pred = model.predict(padded)\n",
    "    labels = df['dialect'].drop_duplicates().tolist()\n",
    "    print(pred, labels[np.argmax(pred)])\n",
    "    return pred, labels[np.argmax(pred)]\n",
    "\n",
    "@app.route('/')\n",
    "            \n",
    "def home():\n",
    "    # Main page\n",
    "    return render_template('home.html')\n",
    "\n",
    "@app.route('/result', methods=['GET', 'POST'])\n",
    "def result():\n",
    "    if request.method == 'POST':\n",
    "        # Get the text from post request\n",
    "       result = request.form['Data']\n",
    "       result_pred = predict_model([result],model)\n",
    "       return render_template(\"result.html\",result = result_pred)\n",
    "    return None\n",
    "\n",
    "\n",
    "if __name__ == '__main__':\n",
    "    app.run(debug=False)\n"
   ]
  },
  {
   "cell_type": "code",
   "execution_count": null,
   "id": "3acf93bb",
   "metadata": {},
   "outputs": [],
   "source": []
  }
 ],
 "metadata": {
  "kernelspec": {
   "display_name": "Python 3 (ipykernel)",
   "language": "python",
   "name": "python3"
  },
  "language_info": {
   "codemirror_mode": {
    "name": "ipython",
    "version": 3
   },
   "file_extension": ".py",
   "mimetype": "text/x-python",
   "name": "python",
   "nbconvert_exporter": "python",
   "pygments_lexer": "ipython3",
   "version": "3.9.7"
  }
 },
 "nbformat": 4,
 "nbformat_minor": 5
}
